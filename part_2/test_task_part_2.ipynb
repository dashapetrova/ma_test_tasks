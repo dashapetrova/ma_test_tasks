{
  "nbformat": 4,
  "nbformat_minor": 0,
  "metadata": {
    "colab": {
      "name": "test_task_part_2.ipynb",
      "provenance": [],
      "collapsed_sections": [
        "mPwbJzYnfflY"
      ]
    },
    "kernelspec": {
      "name": "python3",
      "display_name": "Python 3"
    }
  },
  "cells": [
    {
      "cell_type": "markdown",
      "metadata": {
        "id": "jRFkcqPHJDC-",
        "colab_type": "text"
      },
      "source": [
        "**[Часть 2]** \n",
        "\n",
        "    а) лемматизировать текст с помощью mystem или pymorphy2,\n",
        "    б) найти такие леммы (не исходные словоформы), в которых было бы две (не больше, не меньше) буквы «о», \n",
        "    в) программно обратиться к странице (скачать питоном) http://lib.ru/POEZIQ/PESSOA/lirika.txt , \n",
        "    г) составить словарь для текста, который там размещен,\n",
        "    д) записать этот словарь в файл в формате JSON.\n"
      ]
    },
    {
      "cell_type": "code",
      "metadata": {
        "id": "V5I7oKyA0535",
        "colab_type": "code",
        "colab": {
          "base_uri": "https://localhost:8080/",
          "height": 34
        },
        "outputId": "14bc0575-26b5-4d59-c388-ab7322efb9e5"
      },
      "source": [
        "from google.colab import drive\n",
        "drive.mount('/content/gdrive') #, force_remount=True"
      ],
      "execution_count": 1,
      "outputs": [
        {
          "output_type": "stream",
          "text": [
            "Drive already mounted at /content/gdrive; to attempt to forcibly remount, call drive.mount(\"/content/gdrive\", force_remount=True).\n"
          ],
          "name": "stdout"
        }
      ]
    },
    {
      "cell_type": "code",
      "metadata": {
        "id": "eJfLDl2D1LxI",
        "colab_type": "code",
        "colab": {}
      },
      "source": [
        "import os\n",
        "os.chdir('gdrive/My Drive/Colab Notebooks')"
      ],
      "execution_count": 2,
      "outputs": []
    },
    {
      "cell_type": "code",
      "metadata": {
        "id": "OHQ551uOhFF_",
        "colab_type": "code",
        "colab": {
          "base_uri": "https://localhost:8080/",
          "height": 85
        },
        "outputId": "6bf73ca9-06d5-4fec-e6f7-4074b126e93d"
      },
      "source": [
        "pip install pymorphy2"
      ],
      "execution_count": 3,
      "outputs": [
        {
          "output_type": "stream",
          "text": [
            "Requirement already satisfied: pymorphy2 in /usr/local/lib/python3.6/dist-packages (0.8)\n",
            "Requirement already satisfied: docopt>=0.6 in /usr/local/lib/python3.6/dist-packages (from pymorphy2) (0.6.2)\n",
            "Requirement already satisfied: pymorphy2-dicts<3.0,>=2.4 in /usr/local/lib/python3.6/dist-packages (from pymorphy2) (2.4.393442.3710985)\n",
            "Requirement already satisfied: dawg-python>=0.7 in /usr/local/lib/python3.6/dist-packages (from pymorphy2) (0.7.2)\n"
          ],
          "name": "stdout"
        }
      ]
    },
    {
      "cell_type": "markdown",
      "metadata": {
        "id": "3gUUR0rQnPRg",
        "colab_type": "text"
      },
      "source": [
        "# Часть 1"
      ]
    },
    {
      "cell_type": "code",
      "metadata": {
        "id": "oJDPh9IFcLCH",
        "colab_type": "code",
        "colab": {
          "base_uri": "https://localhost:8080/",
          "height": 170
        },
        "outputId": "84af7335-d188-405b-ab23-0cdca728dc57"
      },
      "source": [
        "#pip install wget"
      ],
      "execution_count": null,
      "outputs": [
        {
          "output_type": "stream",
          "text": [
            "Collecting wget\n",
            "  Downloading https://files.pythonhosted.org/packages/47/6a/62e288da7bcda82b935ff0c6cfe542970f04e29c756b0e147251b2fb251f/wget-3.2.zip\n",
            "Building wheels for collected packages: wget\n",
            "  Building wheel for wget (setup.py) ... \u001b[?25l\u001b[?25hdone\n",
            "  Created wheel for wget: filename=wget-3.2-cp36-none-any.whl size=9682 sha256=863a16b1f729ee64e4756886118797651005ef9424045c9692f849eeb0728565\n",
            "  Stored in directory: /root/.cache/pip/wheels/40/15/30/7d8f7cea2902b4db79e3fea550d7d7b85ecb27ef992b618f3f\n",
            "Successfully built wget\n",
            "Installing collected packages: wget\n",
            "Successfully installed wget-3.2\n"
          ],
          "name": "stdout"
        }
      ]
    },
    {
      "cell_type": "code",
      "metadata": {
        "id": "kYWiXFNhcUmc",
        "colab_type": "code",
        "colab": {
          "base_uri": "https://localhost:8080/",
          "height": 35
        },
        "outputId": "218eedf6-3780-4c02-b77a-7f5759455227"
      },
      "source": [
        "#import wget\n",
        "\n",
        "#wget.download('https://cloclo15.cloud.mail.ru/weblink/view/V2pn/2yB9UEnz2?etag=1A0C163E53183EAA3076A31BD641FFC40534B7B6', 'cloud_text.txt')"
      ],
      "execution_count": null,
      "outputs": [
        {
          "output_type": "execute_result",
          "data": {
            "application/vnd.google.colaboratory.intrinsic+json": {
              "type": "string"
            },
            "text/plain": [
              "'cloud_text.txt'"
            ]
          },
          "metadata": {
            "tags": []
          },
          "execution_count": 79
        }
      ]
    },
    {
      "cell_type": "markdown",
      "metadata": {
        "id": "Al7taDjbfkgs",
        "colab_type": "text"
      },
      "source": [
        "Обработка текста и создание словаря"
      ]
    },
    {
      "cell_type": "code",
      "metadata": {
        "id": "g4utt9MzgYLl",
        "colab_type": "code",
        "colab": {}
      },
      "source": [
        "f = open('cloud_text.txt', 'r', encoding = 'utf-8-sig')\n",
        "text = f.read()\n",
        "f.close()"
      ],
      "execution_count": 4,
      "outputs": []
    },
    {
      "cell_type": "code",
      "metadata": {
        "id": "OfoOFFfrxMXT",
        "colab_type": "code",
        "colab": {
          "base_uri": "https://localhost:8080/",
          "height": 35
        },
        "outputId": "958bc1a8-2730-4831-a875-38f2378aa6b8"
      },
      "source": [
        "text[:100]"
      ],
      "execution_count": 5,
      "outputs": [
        {
          "output_type": "execute_result",
          "data": {
            "application/vnd.google.colaboratory.intrinsic+json": {
              "type": "string"
            },
            "text/plain": [
              "'\\n\\n\\n\\n\\n\\n\\n\\n\\nАРВО МЕТС\\n\\n\\n В осенних лесах.\\n\\nизбранное\\n\\n\\n\\n\\n\\n\\n\\n\\n\\n\\n\\n\\n\\n\\n\\n\\n\\n\\nстихотворения\\nСудьба русского по'"
            ]
          },
          "metadata": {
            "tags": []
          },
          "execution_count": 5
        }
      ]
    },
    {
      "cell_type": "code",
      "metadata": {
        "id": "4BNG2vH_vAcR",
        "colab_type": "code",
        "colab": {}
      },
      "source": [
        "import re\n",
        "\n",
        "rewords = re.compile('[\\\\n]', re.DOTALL)\n",
        "text = re.sub(rewords, ' ', text).lower() #заменяем лишние символы на пробелы, чтобы слова не склеились, и приводим все к нижнему регистру\n",
        "text = re.sub(\"[^\\s\\w]+\", \" \", text) #убираем всю пунктуцацию"
      ],
      "execution_count": 6,
      "outputs": []
    },
    {
      "cell_type": "code",
      "metadata": {
        "id": "FVyCV3E3tryI",
        "colab_type": "code",
        "colab": {
          "base_uri": "https://localhost:8080/",
          "height": 35
        },
        "outputId": "9cb68cff-5502-4601-ec25-e76228265013"
      },
      "source": [
        "text[:100]"
      ],
      "execution_count": 7,
      "outputs": [
        {
          "output_type": "execute_result",
          "data": {
            "application/vnd.google.colaboratory.intrinsic+json": {
              "type": "string"
            },
            "text/plain": [
              "'         арво метс    в осенних лесах   избранное                   стихотворения судьба русского по'"
            ]
          },
          "metadata": {
            "tags": []
          },
          "execution_count": 7
        }
      ]
    },
    {
      "cell_type": "code",
      "metadata": {
        "id": "6zo9iNvaoJDK",
        "colab_type": "code",
        "colab": {
          "base_uri": "https://localhost:8080/",
          "height": 68
        },
        "outputId": "f79d12ba-319d-4ec7-bd11-e6b2e9c1f4f4"
      },
      "source": [
        "import nltk\n",
        "nltk.download('punkt')"
      ],
      "execution_count": 8,
      "outputs": [
        {
          "output_type": "stream",
          "text": [
            "[nltk_data] Downloading package punkt to /root/nltk_data...\n",
            "[nltk_data]   Package punkt is already up-to-date!\n"
          ],
          "name": "stdout"
        },
        {
          "output_type": "execute_result",
          "data": {
            "text/plain": [
              "True"
            ]
          },
          "metadata": {
            "tags": []
          },
          "execution_count": 8
        }
      ]
    },
    {
      "cell_type": "code",
      "metadata": {
        "id": "S92ss6RMnmul",
        "colab_type": "code",
        "colab": {}
      },
      "source": [
        "from nltk import word_tokenize\n",
        "\n",
        "words = word_tokenize(text, language = 'russian')"
      ],
      "execution_count": 9,
      "outputs": []
    },
    {
      "cell_type": "code",
      "metadata": {
        "id": "Lji4KoGUupGK",
        "colab_type": "code",
        "colab": {
          "base_uri": "https://localhost:8080/",
          "height": 34
        },
        "outputId": "b838f0ba-7936-4baa-bc77-da6298a0211b"
      },
      "source": [
        "words[:5]"
      ],
      "execution_count": 10,
      "outputs": [
        {
          "output_type": "execute_result",
          "data": {
            "text/plain": [
              "['арво', 'метс', 'в', 'осенних', 'лесах']"
            ]
          },
          "metadata": {
            "tags": []
          },
          "execution_count": 10
        }
      ]
    },
    {
      "cell_type": "markdown",
      "metadata": {
        "id": "MciBmjZZjRIL",
        "colab_type": "text"
      },
      "source": [
        "или можно выделить слова при помощи регулярных выражений"
      ]
    },
    {
      "cell_type": "code",
      "metadata": {
        "id": "qqwZInmXMC2G",
        "colab_type": "code",
        "colab": {}
      },
      "source": [
        "words_2 = [w for w in re.findall(\"([A-Za-zА-Яа-яЁё]+)\", text)]"
      ],
      "execution_count": 11,
      "outputs": []
    },
    {
      "cell_type": "code",
      "metadata": {
        "id": "fDAZBakmuViP",
        "colab_type": "code",
        "colab": {
          "base_uri": "https://localhost:8080/",
          "height": 34
        },
        "outputId": "47a99d2e-46d3-4366-a43d-85924ffbf34f"
      },
      "source": [
        "words_2[:5]"
      ],
      "execution_count": 12,
      "outputs": [
        {
          "output_type": "execute_result",
          "data": {
            "text/plain": [
              "['арво', 'метс', 'в', 'осенних', 'лесах']"
            ]
          },
          "metadata": {
            "tags": []
          },
          "execution_count": 12
        }
      ]
    },
    {
      "cell_type": "markdown",
      "metadata": {
        "id": "w1Yt8ce8jewf",
        "colab_type": "text"
      },
      "source": [
        "Составим словарь"
      ]
    },
    {
      "cell_type": "code",
      "metadata": {
        "id": "3a8CiV-75IkA",
        "colab_type": "code",
        "colab": {}
      },
      "source": [
        "import collections\n",
        "c = collections.Counter()\n",
        "for word in words:\n",
        "  c[word] += 1"
      ],
      "execution_count": 13,
      "outputs": []
    },
    {
      "cell_type": "code",
      "metadata": {
        "id": "In6V3Tsf4avv",
        "colab_type": "code",
        "colab": {}
      },
      "source": [
        "from collections import OrderedDict\n",
        "\n",
        "f = open('test_text_dict.csv', 'w', encoding='utf-8')\n",
        "dd = OrderedDict(sorted(dict(c).items(), key=lambda t: t[1], reverse = True))\n",
        "for i in dd.keys():\n",
        "  s = i+','+str(dd[i])+'\\n'\n",
        "  f.write(s)\n",
        "f.close()"
      ],
      "execution_count": null,
      "outputs": []
    },
    {
      "cell_type": "markdown",
      "metadata": {
        "id": "NPtoi8mqldAH",
        "colab_type": "text"
      },
      "source": [
        "# Часть 2.1"
      ]
    },
    {
      "cell_type": "markdown",
      "metadata": {
        "id": "HRUefQ1xhepd",
        "colab_type": "text"
      },
      "source": [
        "Лемматизируем слова из получившегося в первой части списка"
      ]
    },
    {
      "cell_type": "code",
      "metadata": {
        "id": "MVW6K48whCYs",
        "colab_type": "code",
        "colab": {}
      },
      "source": [
        "import pymorphy2\n",
        "morph = pymorphy2.MorphAnalyzer()\n",
        "\n",
        "lemmas = [morph.parse(word)[0].normal_form for word in words]"
      ],
      "execution_count": 14,
      "outputs": []
    },
    {
      "cell_type": "code",
      "metadata": {
        "id": "xsgWYLTSiS_S",
        "colab_type": "code",
        "colab": {
          "base_uri": "https://localhost:8080/",
          "height": 187
        },
        "outputId": "0f4426b5-1051-4478-8ee9-d107b78b4c2a"
      },
      "source": [
        "for i in range(10):\n",
        "  print(words[i], lemmas[i])"
      ],
      "execution_count": 15,
      "outputs": [
        {
          "output_type": "stream",
          "text": [
            "арво арво\n",
            "метс метс\n",
            "в в\n",
            "осенних осенний\n",
            "лесах леса\n",
            "избранное избранный\n",
            "стихотворения стихотворение\n",
            "судьба судьба\n",
            "русского русский\n",
            "поэта поэт\n"
          ],
          "name": "stdout"
        }
      ]
    },
    {
      "cell_type": "code",
      "metadata": {
        "id": "g-g4AcVVj-2Z",
        "colab_type": "code",
        "colab": {}
      },
      "source": [
        "f = open(\"oo_list.txt\", 'w', encoding = 'utf-8')\n",
        "for lemma in lemmas:\n",
        "  if lemma.count('о') == 2:\n",
        "    s = lemma + '\\n'\n",
        "    f.write(s)\n",
        "f.close()"
      ],
      "execution_count": 26,
      "outputs": []
    },
    {
      "cell_type": "markdown",
      "metadata": {
        "id": "pCMwNQBNlr2M",
        "colab_type": "text"
      },
      "source": [
        "# Часть 2.2"
      ]
    },
    {
      "cell_type": "code",
      "metadata": {
        "id": "ylytdHlXmaTH",
        "colab_type": "code",
        "colab": {}
      },
      "source": [
        "import requests\n",
        "\n",
        "r = requests.get('http://lib.ru/POEZIQ/PESSOA/lirika.txt')  "
      ],
      "execution_count": 16,
      "outputs": []
    },
    {
      "cell_type": "code",
      "metadata": {
        "id": "C80tHMenl-E7",
        "colab_type": "code",
        "colab": {
          "base_uri": "https://localhost:8080/",
          "height": 35
        },
        "outputId": "8b8b8c77-3942-4b09-a02b-e2e7176ee215"
      },
      "source": [
        "r.text[:100]"
      ],
      "execution_count": 17,
      "outputs": [
        {
          "output_type": "execute_result",
          "data": {
            "application/vnd.google.colaboratory.intrinsic+json": {
              "type": "string"
            },
            "text/plain": [
              "'<html><head><title>Фернандо Пессоа. Лирика</title></head><body><pre><div align=right><form action=/P'"
            ]
          },
          "metadata": {
            "tags": []
          },
          "execution_count": 17
        }
      ]
    },
    {
      "cell_type": "code",
      "metadata": {
        "id": "U_5IRt3mnMVx",
        "colab_type": "code",
        "colab": {}
      },
      "source": [
        "reContents = re.compile('<pre>.*?<pre>', re.DOTALL) #уберем содержание меню в верхнем углу\n",
        "reTag = re.compile('<.*?>', re.DOTALL) #очистим текст от тегов\n",
        "text = re.sub(reContents, '', r.text)\n",
        "text = re.sub(reTag, '', text)"
      ],
      "execution_count": 18,
      "outputs": []
    },
    {
      "cell_type": "code",
      "metadata": {
        "id": "A-Me5hN9oAxh",
        "colab_type": "code",
        "colab": {
          "base_uri": "https://localhost:8080/",
          "height": 35
        },
        "outputId": "28aefb47-f658-424f-afab-64a54ac73b44"
      },
      "source": [
        "text[:100]"
      ],
      "execution_count": 19,
      "outputs": [
        {
          "output_type": "execute_result",
          "data": {
            "application/vnd.google.colaboratory.intrinsic+json": {
              "type": "string"
            },
            "text/plain": [
              "'Фернандо Пессоа. Лирика\\nФернандо Пессоа. Лирика\\n\\n     ББК 84.4ПР, П28\\n     Составление Е. ВИТКОВСКОГ'"
            ]
          },
          "metadata": {
            "tags": []
          },
          "execution_count": 19
        }
      ]
    },
    {
      "cell_type": "code",
      "metadata": {
        "id": "px3fBSBGvQDP",
        "colab_type": "code",
        "colab": {
          "base_uri": "https://localhost:8080/",
          "height": 68
        },
        "outputId": "ebaa8951-d2ff-40f7-884b-8807fc66c9f0"
      },
      "source": [
        "nltk.download('stopwords')"
      ],
      "execution_count": 20,
      "outputs": [
        {
          "output_type": "stream",
          "text": [
            "[nltk_data] Downloading package stopwords to /root/nltk_data...\n",
            "[nltk_data]   Package stopwords is already up-to-date!\n"
          ],
          "name": "stdout"
        },
        {
          "output_type": "execute_result",
          "data": {
            "text/plain": [
              "True"
            ]
          },
          "metadata": {
            "tags": []
          },
          "execution_count": 20
        }
      ]
    },
    {
      "cell_type": "code",
      "metadata": {
        "id": "qG7EgXhyv1iB",
        "colab_type": "code",
        "colab": {}
      },
      "source": [
        "from nltk.tokenize import RegexpTokenizer #используем другой токенизатор\n",
        "from nltk.corpus import stopwords #уберем также стоп-слова\n",
        "\n",
        "morph = pymorphy2.MorphAnalyzer()\n",
        "token = RegexpTokenizer('\\w+')\n",
        "stops = set(stopwords.words('russian')) \n",
        "\n",
        "def text_to_lemmas(text):\n",
        "    lemmas = [morph.parse(word)[0].normal_form for word in token.tokenize(text) if morph.parse(word)[0].normal_form not in stops]\n",
        "    return lemmas"
      ],
      "execution_count": 21,
      "outputs": []
    },
    {
      "cell_type": "code",
      "metadata": {
        "id": "lDNeYqWuqHN8",
        "colab_type": "code",
        "colab": {}
      },
      "source": [
        "import collections\n",
        "from collections import OrderedDict\n",
        "\n",
        "def freq_dict(words):\n",
        "  c = collections.Counter()\n",
        "  for word in words:\n",
        "    c[word] += 1\n",
        "  \n",
        "  return OrderedDict(sorted(dict(c).items(), key=lambda t: t[1], reverse = True))"
      ],
      "execution_count": 22,
      "outputs": []
    },
    {
      "cell_type": "code",
      "metadata": {
        "id": "fuTwJDI5xHag",
        "colab_type": "code",
        "colab": {}
      },
      "source": [
        "final_dict = freq_dict(text_to_lemmas(text))"
      ],
      "execution_count": 23,
      "outputs": []
    },
    {
      "cell_type": "code",
      "metadata": {
        "id": "lR52bUaMyXiD",
        "colab_type": "code",
        "colab": {}
      },
      "source": [
        "import json\n",
        "\n",
        "with open('test_text_dict_2.json', 'w') as f:\n",
        "    json.dump(final_dict, f)"
      ],
      "execution_count": 81,
      "outputs": []
    },
    {
      "cell_type": "code",
      "metadata": {
        "id": "LfRG_p8n0T-D",
        "colab_type": "code",
        "colab": {}
      },
      "source": [
        ""
      ],
      "execution_count": null,
      "outputs": []
    }
  ]
}
