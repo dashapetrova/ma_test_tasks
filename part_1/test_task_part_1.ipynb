{
  "nbformat": 4,
  "nbformat_minor": 0,
  "metadata": {
    "colab": {
      "name": "test_task_part_1.ipynb",
      "provenance": [],
      "collapsed_sections": [
        "mPwbJzYnfflY"
      ]
    },
    "kernelspec": {
      "name": "python3",
      "display_name": "Python 3"
    }
  },
  "cells": [
    {
      "cell_type": "markdown",
      "metadata": {
        "id": "jRFkcqPHJDC-",
        "colab_type": "text"
      },
      "source": [
        "**[Часть 1]** открывала с диска и читала текст, размещенный в этом файле: https://cloud.mail.ru/public/V2pn/2yB9UEnz2 \n",
        "\n",
        "С текстом нужно сделать следующее: \n",
        "\n",
        "    а) привести к нижнему регистру,\n",
        "    б) избавиться от знаков препинания, \n",
        "    в) создать частотный словарь и записать его в csv-файл.\n"
      ]
    },
    {
      "cell_type": "code",
      "metadata": {
        "id": "V5I7oKyA0535",
        "colab_type": "code",
        "colab": {
          "base_uri": "https://localhost:8080/",
          "height": 122
        },
        "outputId": "4d6d6a19-bff8-48d0-e0c2-8f672bbbe773"
      },
      "source": [
        "from google.colab import drive\n",
        "drive.mount('/content/gdrive') #, force_remount=True"
      ],
      "execution_count": null,
      "outputs": [
        {
          "output_type": "stream",
          "text": [
            "Go to this URL in a browser: https://accounts.google.com/o/oauth2/auth?client_id=947318989803-6bn6qk8qdgf4n4g3pfee6491hc0brc4i.apps.googleusercontent.com&redirect_uri=urn%3aietf%3awg%3aoauth%3a2.0%3aoob&scope=email%20https%3a%2f%2fwww.googleapis.com%2fauth%2fdocs.test%20https%3a%2f%2fwww.googleapis.com%2fauth%2fdrive%20https%3a%2f%2fwww.googleapis.com%2fauth%2fdrive.photos.readonly%20https%3a%2f%2fwww.googleapis.com%2fauth%2fpeopleapi.readonly&response_type=code\n",
            "\n",
            "Enter your authorization code:\n",
            "··········\n",
            "Mounted at /content/gdrive\n"
          ],
          "name": "stdout"
        }
      ]
    },
    {
      "cell_type": "code",
      "metadata": {
        "id": "eJfLDl2D1LxI",
        "colab_type": "code",
        "colab": {}
      },
      "source": [
        "import os\n",
        "os.chdir('gdrive/My Drive/Colab Notebooks')"
      ],
      "execution_count": null,
      "outputs": []
    },
    {
      "cell_type": "markdown",
      "metadata": {
        "id": "3gUUR0rQnPRg",
        "colab_type": "text"
      },
      "source": [
        "# загрузка текста"
      ]
    },
    {
      "cell_type": "code",
      "metadata": {
        "id": "oJDPh9IFcLCH",
        "colab_type": "code",
        "colab": {
          "base_uri": "https://localhost:8080/",
          "height": 170
        },
        "outputId": "84af7335-d188-405b-ab23-0cdca728dc57"
      },
      "source": [
        "#pip install wget"
      ],
      "execution_count": null,
      "outputs": [
        {
          "output_type": "stream",
          "text": [
            "Collecting wget\n",
            "  Downloading https://files.pythonhosted.org/packages/47/6a/62e288da7bcda82b935ff0c6cfe542970f04e29c756b0e147251b2fb251f/wget-3.2.zip\n",
            "Building wheels for collected packages: wget\n",
            "  Building wheel for wget (setup.py) ... \u001b[?25l\u001b[?25hdone\n",
            "  Created wheel for wget: filename=wget-3.2-cp36-none-any.whl size=9682 sha256=863a16b1f729ee64e4756886118797651005ef9424045c9692f849eeb0728565\n",
            "  Stored in directory: /root/.cache/pip/wheels/40/15/30/7d8f7cea2902b4db79e3fea550d7d7b85ecb27ef992b618f3f\n",
            "Successfully built wget\n",
            "Installing collected packages: wget\n",
            "Successfully installed wget-3.2\n"
          ],
          "name": "stdout"
        }
      ]
    },
    {
      "cell_type": "code",
      "metadata": {
        "id": "kYWiXFNhcUmc",
        "colab_type": "code",
        "colab": {
          "base_uri": "https://localhost:8080/",
          "height": 35
        },
        "outputId": "218eedf6-3780-4c02-b77a-7f5759455227"
      },
      "source": [
        "#import wget\n",
        "\n",
        "#wget.download('https://cloclo15.cloud.mail.ru/weblink/view/V2pn/2yB9UEnz2?etag=1A0C163E53183EAA3076A31BD641FFC40534B7B6', 'cloud_text.txt')"
      ],
      "execution_count": null,
      "outputs": [
        {
          "output_type": "execute_result",
          "data": {
            "application/vnd.google.colaboratory.intrinsic+json": {
              "type": "string"
            },
            "text/plain": [
              "'cloud_text.txt'"
            ]
          },
          "metadata": {
            "tags": []
          },
          "execution_count": 79
        }
      ]
    },
    {
      "cell_type": "markdown",
      "metadata": {
        "id": "Al7taDjbfkgs",
        "colab_type": "text"
      },
      "source": [
        "# обработка текста и создание словаря"
      ]
    },
    {
      "cell_type": "code",
      "metadata": {
        "id": "g4utt9MzgYLl",
        "colab_type": "code",
        "colab": {}
      },
      "source": [
        "f = open('cloud_text.txt', 'r', encoding = 'utf-8-sig')\n",
        "text = f.read()\n",
        "f.close()"
      ],
      "execution_count": 50,
      "outputs": []
    },
    {
      "cell_type": "code",
      "metadata": {
        "id": "OfoOFFfrxMXT",
        "colab_type": "code",
        "colab": {
          "base_uri": "https://localhost:8080/",
          "height": 35
        },
        "outputId": "bc0a8bd3-1b2b-4748-e947-b684014faaab"
      },
      "source": [
        "text[:100]"
      ],
      "execution_count": 51,
      "outputs": [
        {
          "output_type": "execute_result",
          "data": {
            "application/vnd.google.colaboratory.intrinsic+json": {
              "type": "string"
            },
            "text/plain": [
              "'\\n\\n\\n\\n\\n\\n\\n\\n\\nАРВО МЕТС\\n\\n\\n В осенних лесах.\\n\\nизбранное\\n\\n\\n\\n\\n\\n\\n\\n\\n\\n\\n\\n\\n\\n\\n\\n\\n\\n\\nстихотворения\\nСудьба русского по'"
            ]
          },
          "metadata": {
            "tags": []
          },
          "execution_count": 51
        }
      ]
    },
    {
      "cell_type": "code",
      "metadata": {
        "id": "JApHO2sGpUaU",
        "colab_type": "code",
        "colab": {
          "base_uri": "https://localhost:8080/",
          "height": 35
        },
        "outputId": "7d6c4381-56a6-4300-913f-16954f19f618"
      },
      "source": [
        "#проверка регулярного выражения для очистки пунктуации\n",
        "tt = 'Привет! Почисти меня, пожалуйста.'\n",
        "ee = re.sub(\"[^\\s\\w]+\",\" \",tt)\n",
        "ee"
      ],
      "execution_count": null,
      "outputs": [
        {
          "output_type": "execute_result",
          "data": {
            "application/vnd.google.colaboratory.intrinsic+json": {
              "type": "string"
            },
            "text/plain": [
              "'Привет  Почисти меня  пожалуйста '"
            ]
          },
          "metadata": {
            "tags": []
          },
          "execution_count": 36
        }
      ]
    },
    {
      "cell_type": "code",
      "metadata": {
        "id": "4BNG2vH_vAcR",
        "colab_type": "code",
        "colab": {}
      },
      "source": [
        "import re\n",
        "\n",
        "rewords = re.compile('[\\\\n]', re.DOTALL)\n",
        "text = re.sub(rewords, ' ', text).lower() #заменяем лишние символы на пробелы, чтобы слова не склеились, и приводим все к нижнему регистру\n",
        "text = re.sub(\"[^\\s\\w]+\", \" \", text) #убираем всю пунктуцацию"
      ],
      "execution_count": null,
      "outputs": []
    },
    {
      "cell_type": "code",
      "metadata": {
        "id": "FVyCV3E3tryI",
        "colab_type": "code",
        "colab": {
          "base_uri": "https://localhost:8080/",
          "height": 35
        },
        "outputId": "f5c67388-6688-4064-b80f-3ce65b7accfc"
      },
      "source": [
        "text[:100]"
      ],
      "execution_count": null,
      "outputs": [
        {
          "output_type": "execute_result",
          "data": {
            "application/vnd.google.colaboratory.intrinsic+json": {
              "type": "string"
            },
            "text/plain": [
              "'         арво метс    в осенних лесах   избранное                   стихотворения судьба русского по'"
            ]
          },
          "metadata": {
            "tags": []
          },
          "execution_count": 38
        }
      ]
    },
    {
      "cell_type": "code",
      "metadata": {
        "id": "6zo9iNvaoJDK",
        "colab_type": "code",
        "colab": {
          "base_uri": "https://localhost:8080/",
          "height": 68
        },
        "outputId": "5128509f-67bc-4252-c67a-a474f28e8f35"
      },
      "source": [
        "import nltk\n",
        "nltk.download('punkt')"
      ],
      "execution_count": null,
      "outputs": [
        {
          "output_type": "stream",
          "text": [
            "[nltk_data] Downloading package punkt to /root/nltk_data...\n",
            "[nltk_data]   Package punkt is already up-to-date!\n"
          ],
          "name": "stdout"
        },
        {
          "output_type": "execute_result",
          "data": {
            "text/plain": [
              "True"
            ]
          },
          "metadata": {
            "tags": []
          },
          "execution_count": 41
        }
      ]
    },
    {
      "cell_type": "code",
      "metadata": {
        "id": "S92ss6RMnmul",
        "colab_type": "code",
        "colab": {}
      },
      "source": [
        "from nltk import word_tokenize\n",
        "\n",
        "words = word_tokenize(text, language = 'russian')"
      ],
      "execution_count": null,
      "outputs": []
    },
    {
      "cell_type": "code",
      "metadata": {
        "id": "Lji4KoGUupGK",
        "colab_type": "code",
        "colab": {
          "base_uri": "https://localhost:8080/",
          "height": 34
        },
        "outputId": "ad31f01b-5d65-4320-e446-21560e69e533"
      },
      "source": [
        "words[:5]"
      ],
      "execution_count": null,
      "outputs": [
        {
          "output_type": "execute_result",
          "data": {
            "text/plain": [
              "['арво', 'метс', 'в', 'осенних', 'лесах']"
            ]
          },
          "metadata": {
            "tags": []
          },
          "execution_count": 43
        }
      ]
    },
    {
      "cell_type": "markdown",
      "metadata": {
        "id": "MciBmjZZjRIL",
        "colab_type": "text"
      },
      "source": [
        "или можно выделить слова при помощи регулярных выражений"
      ]
    },
    {
      "cell_type": "code",
      "metadata": {
        "id": "qqwZInmXMC2G",
        "colab_type": "code",
        "colab": {}
      },
      "source": [
        "words_2 = [w for w in re.findall(\"([A-Za-zА-Яа-яЁё]+)\", text)]"
      ],
      "execution_count": null,
      "outputs": []
    },
    {
      "cell_type": "code",
      "metadata": {
        "id": "fDAZBakmuViP",
        "colab_type": "code",
        "colab": {
          "base_uri": "https://localhost:8080/",
          "height": 34
        },
        "outputId": "fbb1a22a-0f94-4887-fbb1-c10cdc7bf2f3"
      },
      "source": [
        "words_2[:5]"
      ],
      "execution_count": null,
      "outputs": [
        {
          "output_type": "execute_result",
          "data": {
            "text/plain": [
              "['арво', 'метс', 'в', 'осенних', 'лесах']"
            ]
          },
          "metadata": {
            "tags": []
          },
          "execution_count": 45
        }
      ]
    },
    {
      "cell_type": "markdown",
      "metadata": {
        "id": "w1Yt8ce8jewf",
        "colab_type": "text"
      },
      "source": [
        "Составим словарь"
      ]
    },
    {
      "cell_type": "code",
      "metadata": {
        "id": "3a8CiV-75IkA",
        "colab_type": "code",
        "colab": {}
      },
      "source": [
        "import collections\n",
        "c = collections.Counter()\n",
        "for word in words:\n",
        "  c[word] += 1"
      ],
      "execution_count": null,
      "outputs": []
    },
    {
      "cell_type": "code",
      "metadata": {
        "id": "In6V3Tsf4avv",
        "colab_type": "code",
        "colab": {}
      },
      "source": [
        "from collections import OrderedDict\n",
        "\n",
        "f = open('test_text_dict.csv', 'w', encoding='utf-8')\n",
        "dd = OrderedDict(sorted(dict(c).items(), key=lambda t: t[1], reverse = True))\n",
        "for i in dd.keys():\n",
        "  s = i+','+str(dd[i])+'\\n'\n",
        "  f.write(s)\n",
        "f.close()"
      ],
      "execution_count": null,
      "outputs": []
    }
  ]
}